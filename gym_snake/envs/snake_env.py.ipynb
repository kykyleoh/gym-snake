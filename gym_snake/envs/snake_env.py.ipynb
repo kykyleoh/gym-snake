{
 "cells": [
  {
   "cell_type": "code",
   "execution_count": 1,
   "metadata": {
    "ExecuteTime": {
     "end_time": "2020-06-09T08:13:19.438755Z",
     "start_time": "2020-06-09T08:13:19.018916Z"
    }
   },
   "outputs": [],
   "source": [
    "import gym\n",
    "from gym import error, spaces, utils\n",
    "from gym.utils import seeding"
   ]
  },
  {
   "cell_type": "code",
   "execution_count": 9,
   "metadata": {
    "ExecuteTime": {
     "end_time": "2020-06-09T08:39:07.295935Z",
     "start_time": "2020-06-09T08:39:07.289738Z"
    }
   },
   "outputs": [],
   "source": [
    "spaces.Space?"
   ]
  },
  {
   "cell_type": "code",
   "execution_count": 3,
   "metadata": {
    "ExecuteTime": {
     "end_time": "2020-06-09T08:35:12.337567Z",
     "start_time": "2020-06-09T08:35:12.242920Z"
    }
   },
   "outputs": [],
   "source": [
    "spaces.Box?"
   ]
  },
  {
   "cell_type": "code",
   "execution_count": 4,
   "metadata": {
    "ExecuteTime": {
     "end_time": "2020-06-09T08:35:57.935650Z",
     "start_time": "2020-06-09T08:35:57.927513Z"
    }
   },
   "outputs": [],
   "source": [
    "spaces.Discrete?"
   ]
  },
  {
   "cell_type": "code",
   "execution_count": 19,
   "metadata": {
    "ExecuteTime": {
     "end_time": "2020-06-09T09:06:41.800977Z",
     "start_time": "2020-06-09T09:06:41.786936Z"
    }
   },
   "outputs": [],
   "source": [
    "from collections import deque"
   ]
  },
  {
   "cell_type": "code",
   "execution_count": 23,
   "metadata": {
    "ExecuteTime": {
     "end_time": "2020-06-09T09:07:35.610544Z",
     "start_time": "2020-06-09T09:07:35.598833Z"
    }
   },
   "outputs": [],
   "source": [
    "x = deque()\n",
    "for i in range(100):\n",
    "    x.append(i)\n",
    "    \n",
    "    if i % 2 == 0:\n",
    "        x.popleft()"
   ]
  },
  {
   "cell_type": "code",
   "execution_count": null,
   "metadata": {},
   "outputs": [],
   "source": [
    "class SnakeEnv(gym.Env):\n",
    "    metadata = {'render.modes': ['human']}\n",
    "    \n",
    "    def __init__(self):\n",
    "        "
   ]
  }
 ],
 "metadata": {
  "kernelspec": {
   "display_name": "Python 3",
   "language": "python",
   "name": "python3"
  },
  "language_info": {
   "codemirror_mode": {
    "name": "ipython",
    "version": 3
   },
   "file_extension": ".py",
   "mimetype": "text/x-python",
   "name": "python",
   "nbconvert_exporter": "python",
   "pygments_lexer": "ipython3",
   "version": "3.7.4"
  },
  "toc": {
   "base_numbering": 1,
   "nav_menu": {},
   "number_sections": true,
   "sideBar": true,
   "skip_h1_title": false,
   "title_cell": "Table of Contents",
   "title_sidebar": "Contents",
   "toc_cell": false,
   "toc_position": {},
   "toc_section_display": true,
   "toc_window_display": false
  }
 },
 "nbformat": 4,
 "nbformat_minor": 2
}
