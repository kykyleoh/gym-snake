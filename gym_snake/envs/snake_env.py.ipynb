{
 "cells": [
  {
   "cell_type": "code",
   "execution_count": 2,
   "metadata": {
    "ExecuteTime": {
     "end_time": "2020-06-10T06:41:29.024337Z",
     "start_time": "2020-06-10T06:41:29.016649Z"
    }
   },
   "outputs": [],
   "source": [
    "class SnakeEnv(gym.Env):\n",
    "    metadata = {'render.modes': ['human']}\n",
    "    \n",
    "    def __init__(self, grid_width=40, grid_height=40, snake_length=3):\n",
    "        self.width = grid_width\n",
    "        self.height = grid_height\n",
    "        self.snake_starting_length = snake_length\n",
    "        self.action_space = spaces.Discrete(4)\n",
    "       \n",
    "    def reset(self):\n",
    "        self.game = PlayGame(self.width, self.height, self.snake_starting_length)\n",
    "        self.last_state = self.game.get_current_state()\n",
    "        return self.last_state\n",
    "    \n",
    "    def step(self, action):\n",
    "        self.last_state, action, next_state, reward = self.game.step(action)\n",
    "#         assert(reward >= 0), 'YOU DIED'\n",
    "        return self.last_state, action, next_state, reward\n",
    "        \n",
    "    def render(self, mode='human'):\n",
    "        try:\n",
    "            self.game.render()\n",
    "        else:\n",
    "            self.reset()\n",
    "            self.game.render()"
   ]
  },
  {
   "cell_type": "code",
   "execution_count": 82,
   "metadata": {
    "ExecuteTime": {
     "end_time": "2020-06-11T07:43:37.419491Z",
     "start_time": "2020-06-11T07:43:37.407470Z"
    }
   },
   "outputs": [],
   "source": [
    "import numpy as np"
   ]
  },
  {
   "cell_type": "code",
   "execution_count": 83,
   "metadata": {
    "ExecuteTime": {
     "end_time": "2020-06-11T07:43:37.603760Z",
     "start_time": "2020-06-11T07:43:37.556323Z"
    }
   },
   "outputs": [
    {
     "data": {
      "text/plain": [
       "2"
      ]
     },
     "execution_count": 83,
     "metadata": {},
     "output_type": "execute_result"
    }
   ],
   "source": [
    "np.array([1,1,2]).max()"
   ]
  },
  {
   "cell_type": "code",
   "execution_count": 80,
   "metadata": {
    "ExecuteTime": {
     "end_time": "2020-06-10T08:17:03.705936Z",
     "start_time": "2020-06-10T08:17:03.643921Z"
    }
   },
   "outputs": [],
   "source": [
    "import gym\n",
    "from gym import error, spaces, utils\n",
    "from gym.utils import seeding\n",
    "from snake_game.snake_game import Grid, Snake, PlayGame\n",
    "import matplotlib.pyplot as plt"
   ]
  },
  {
   "cell_type": "code",
   "execution_count": 51,
   "metadata": {
    "ExecuteTime": {
     "end_time": "2020-06-10T06:43:42.277697Z",
     "start_time": "2020-06-10T06:43:42.272828Z"
    }
   },
   "outputs": [],
   "source": [
    "snek = SnakeEnv(40,40,7)"
   ]
  },
  {
   "cell_type": "code",
   "execution_count": 52,
   "metadata": {
    "ExecuteTime": {
     "end_time": "2020-06-10T06:43:42.439329Z",
     "start_time": "2020-06-10T06:43:42.434219Z"
    }
   },
   "outputs": [
    {
     "data": {
      "text/plain": [
       "array([[1., 1., 1., ..., 1., 1., 1.],\n",
       "       [1., 0., 0., ..., 0., 0., 1.],\n",
       "       [1., 0., 0., ..., 0., 0., 1.],\n",
       "       ...,\n",
       "       [1., 0., 0., ..., 0., 0., 1.],\n",
       "       [1., 0., 0., ..., 0., 0., 1.],\n",
       "       [1., 1., 1., ..., 1., 1., 1.]])"
      ]
     },
     "execution_count": 52,
     "metadata": {},
     "output_type": "execute_result"
    }
   ],
   "source": [
    "snek.reset()"
   ]
  },
  {
   "cell_type": "code",
   "execution_count": null,
   "metadata": {},
   "outputs": [],
   "source": []
  },
  {
   "cell_type": "code",
   "execution_count": null,
   "metadata": {},
   "outputs": [],
   "source": [
    "PlayGame()"
   ]
  },
  {
   "cell_type": "code",
   "execution_count": 77,
   "metadata": {
    "ExecuteTime": {
     "end_time": "2020-06-10T06:44:11.265172Z",
     "start_time": "2020-06-10T06:44:11.261493Z"
    }
   },
   "outputs": [],
   "source": [
    "snek.step(0)"
   ]
  },
  {
   "cell_type": "code",
   "execution_count": 78,
   "metadata": {
    "ExecuteTime": {
     "end_time": "2020-06-10T06:44:11.515481Z",
     "start_time": "2020-06-10T06:44:11.429347Z"
    }
   },
   "outputs": [
    {
     "data": {
      "image/png": "[encoded data removed]",
      "text/plain": [
       "<Figure size 432x288 with 1 Axes>"
      ]
     },
     "metadata": {
      "needs_background": "light"
     },
     "output_type": "display_data"
    }
   ],
   "source": [
    "snek.render()"
   ]
  },
  {
   "cell_type": "code",
   "execution_count": null,
   "metadata": {},
   "outputs": [],
   "source": []
  },
  {
   "cell_type": "code",
   "execution_count": null,
   "metadata": {},
   "outputs": [],
   "source": []
  }
 ],
 "metadata": {
  "kernelspec": {
   "display_name": "Python 3",
   "language": "python",
   "name": "python3"
  },
  "language_info": {
   "codemirror_mode": {
    "name": "ipython",
    "version": 3
   },
   "file_extension": ".py",
   "mimetype": "text/x-python",
   "name": "python",
   "nbconvert_exporter": "python",
   "pygments_lexer": "ipython3",
   "version": "3.7.4"
  },
  "toc": {
   "base_numbering": 1,
   "nav_menu": {},
   "number_sections": true,
   "sideBar": true,
   "skip_h1_title": false,
   "title_cell": "Table of Contents",
   "title_sidebar": "Contents",
   "toc_cell": false,
   "toc_position": {},
   "toc_section_display": true,
   "toc_window_display": false
  }
 },
 "nbformat": 4,
 "nbformat_minor": 2
}
