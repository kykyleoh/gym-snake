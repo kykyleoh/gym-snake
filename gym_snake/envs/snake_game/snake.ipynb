{
 "cells": [
  {
   "cell_type": "code",
   "execution_count": 123,
   "metadata": {
    "ExecuteTime": {
     "end_time": "2020-06-09T09:42:02.945384Z",
     "start_time": "2020-06-09T09:42:02.939842Z"
    }
   },
   "outputs": [],
   "source": [
    "import numpy as np\n",
    "import random\n",
    "from collections import deque\n",
    "import matplotlib.pyplot as plt\n",
    "from time import sleep\n",
    "from IPython.display import clear_output"
   ]
  },
  {
   "cell_type": "code",
   "execution_count": 254,
   "metadata": {
    "ExecuteTime": {
     "end_time": "2020-06-09T10:14:53.413053Z",
     "start_time": "2020-06-09T10:14:53.391908Z"
    }
   },
   "outputs": [],
   "source": [
    "class Grid():\n",
    "    \n",
    "    '''\n",
    "    Generates and operates the grid structure that the snake game will be playing in.\n",
    "    \n",
    "    This will be in a matrix:\n",
    "    [ 0 0 0 0 ]\n",
    "    [ 0 0 0 0 ]\n",
    "    [ 0 0 0 0 ]\n",
    "    [ 0 0 0 0 ]\n",
    "    \n",
    "    Wherein the starting position (0,0) is the upper left corner and the maximum position\n",
    "    is at (max_x, max_y) at the lower right of the square.\n",
    "    \n",
    "    All non-zero elements will be considered as occupied, therefore the board will be \n",
    "    initiated with:\n",
    "    [ 1 1 1 1 ]\n",
    "    [ 1 0 0 1 ]\n",
    "    [ 1 0 0 1 ]\n",
    "    [ 1 1 1 1 ]\n",
    "    wherein the 1s denote the borders of the board.\n",
    "    '''\n",
    "    \n",
    "    def __init__(self, max_x, max_y, snake):\n",
    "        \n",
    "        '''\n",
    "        Generates an empty square board with size (max_x, max_y). This is generated using a\n",
    "        numpy matrix of 0s wherein a border of 1s is added all around the play space.\n",
    "        '''\n",
    "        \n",
    "        self.width = max_x\n",
    "        self.height = max_y\n",
    "        self.board = np.zeros((self.width+2, self.height+2))\n",
    "        self.board[0] = 1\n",
    "        self.board[-1] = 1\n",
    "        self.board[:,0] = 1\n",
    "        self.board[:,-1] = 1\n",
    "        for i in snake.body:\n",
    "            self.board[i[0],i[1]] = 1\n",
    "        self.board[snake.head_coord[0], snake.head_coord[1]] = 1\n",
    "        \n",
    "    def reset(self):\n",
    "        \n",
    "        '''\n",
    "        Erases the board and restarts it to the beginning state.\n",
    "        '''\n",
    "        \n",
    "        self.board = np.zeros((self.width+2, self.height+2))\n",
    "        \n",
    "    def food(self):\n",
    "        food_idx = np.random.choice(np.argsort(self.board.flatten())\\\n",
    "                                      [:(self.board < 1).sum()])\n",
    "        row = food_idx // self.board.shape[0]\n",
    "        col = food_idx - (self.board.shape[0] * row)\n",
    "        self.board[row,col] = 2"
   ]
  },
  {
   "cell_type": "code",
   "execution_count": 256,
   "metadata": {
    "ExecuteTime": {
     "end_time": "2020-06-09T10:18:32.294374Z",
     "start_time": "2020-06-09T10:18:32.273049Z"
    }
   },
   "outputs": [],
   "source": [
    "class Snake():\n",
    "    '''\n",
    "    Generates a new Snake agent that can be used to play the snake game.\n",
    "    \n",
    "    For the snake actions:\n",
    "    \n",
    "    UP = 1\n",
    "    DOWN = 2\n",
    "    LEFT = 3\n",
    "    RIGHT = 4\n",
    "    \n",
    "    '''\n",
    "    \n",
    "    UP = 1\n",
    "    DOWN = 2\n",
    "    LEFT = 3\n",
    "    RIGHT = 4\n",
    "\n",
    "    \n",
    "    def __init__(self, starting_head_coord, length=3):\n",
    "        self.direction = 1\n",
    "        self.head_coord = np.asarray(starting_head_coord)\n",
    "        self.body = deque()\n",
    "        for i in range(length-1, 0, -1):\n",
    "            self.body.append((self.head_coord - np.array([0,i])).astype(int))\n",
    "        self.length = length\n",
    "        \n",
    "    def step(self, action):\n",
    "\n",
    "        self.body.append(self.head_coord)\n",
    "\n",
    "        if action == 1:\n",
    "            self.head_coord = self.head_coord + np.array([-1,0])\n",
    "        elif action == 2:\n",
    "            self.head_coord = self.head_coord + np.array([1,0])\n",
    "        elif action == 3:\n",
    "            self.head_coord = self.head_coord + np.array([0,-1])\n",
    "        elif action == 4:\n",
    "            self.head_coord = self.head_coord + np.array([0,1])\n"
   ]
  },
  {
   "cell_type": "code",
   "execution_count": null,
   "metadata": {},
   "outputs": [],
   "source": [
    "class SnakeGame():\n",
    "    \n",
    "    '''\n",
    "    Defines the wrapper function that manipulates the Snake and Grid classes to play a \n",
    "    game of snake. This will be used for the gym_env wrapper.\n",
    "    '''\n",
    "\n",
    "    def __init__(self, width, height):\n",
    "        self.snake = Snake()\n",
    "        self.grid = Grid(width, height)\n",
    "        "
   ]
  },
  {
   "cell_type": "code",
   "execution_count": 212,
   "metadata": {
    "ExecuteTime": {
     "end_time": "2020-06-09T10:07:24.233635Z",
     "start_time": "2020-06-09T10:07:24.230821Z"
    }
   },
   "outputs": [],
   "source": [
    "snek = Snake(np.array([20,20]))"
   ]
  },
  {
   "cell_type": "code",
   "execution_count": 213,
   "metadata": {
    "ExecuteTime": {
     "end_time": "2020-06-09T10:07:24.640652Z",
     "start_time": "2020-06-09T10:07:24.637701Z"
    }
   },
   "outputs": [],
   "source": [
    "snek.step(4)\n",
    "snek.step(1)\n",
    "snek.step(1)\n",
    "snek.step(1)\n",
    "snek.step(1)"
   ]
  },
  {
   "cell_type": "code",
   "execution_count": 214,
   "metadata": {
    "ExecuteTime": {
     "end_time": "2020-06-09T10:07:25.148477Z",
     "start_time": "2020-06-09T10:07:25.142075Z"
    }
   },
   "outputs": [
    {
     "data": {
      "text/plain": [
       "deque([array([20, 18]),\n",
       "       array([20, 19]),\n",
       "       array([20, 20]),\n",
       "       array([20, 21]),\n",
       "       array([19, 21]),\n",
       "       array([18, 21]),\n",
       "       array([17, 21])])"
      ]
     },
     "execution_count": 214,
     "metadata": {},
     "output_type": "execute_result"
    }
   ],
   "source": [
    "snek.body"
   ]
  },
  {
   "cell_type": "code",
   "execution_count": 215,
   "metadata": {
    "ExecuteTime": {
     "end_time": "2020-06-09T10:07:27.969299Z",
     "start_time": "2020-06-09T10:07:27.965397Z"
    }
   },
   "outputs": [],
   "source": [
    "x = Grid(40,40)"
   ]
  },
  {
   "cell_type": "code",
   "execution_count": 249,
   "metadata": {
    "ExecuteTime": {
     "end_time": "2020-06-09T10:12:32.362491Z",
     "start_time": "2020-06-09T10:12:32.354726Z"
    }
   },
   "outputs": [],
   "source": [
    "x.food(None)"
   ]
  },
  {
   "cell_type": "code",
   "execution_count": 250,
   "metadata": {
    "ExecuteTime": {
     "end_time": "2020-06-09T10:12:32.637728Z",
     "start_time": "2020-06-09T10:12:32.634345Z"
    }
   },
   "outputs": [],
   "source": [
    "grid = x.board.copy()"
   ]
  },
  {
   "cell_type": "code",
   "execution_count": 251,
   "metadata": {
    "ExecuteTime": {
     "end_time": "2020-06-09T10:12:33.656160Z",
     "start_time": "2020-06-09T10:12:33.649342Z"
    }
   },
   "outputs": [
    {
     "name": "stdout",
     "output_type": "stream",
     "text": [
      "[20 18]\n",
      "[20 19]\n",
      "[20 20]\n",
      "[20 21]\n",
      "[19 21]\n",
      "[18 21]\n",
      "[17 21]\n",
      "[16 21]\n",
      "[16 20]\n",
      "[16 19]\n",
      "[16 18]\n",
      "[16 17]\n",
      "[16 16]\n",
      "[17 16]\n",
      "[18 16]\n",
      "[19 16]\n",
      "[19 15]\n"
     ]
    }
   ],
   "source": [
    "for i in snek.body:\n",
    "    grid[i[0], i[1]] = 1\n",
    "    print(i)\n",
    "grid[snek.head_coord[0], snek.head_coord[1]] = 1"
   ]
  },
  {
   "cell_type": "code",
   "execution_count": 252,
   "metadata": {
    "ExecuteTime": {
     "end_time": "2020-06-09T10:12:34.549792Z",
     "start_time": "2020-06-09T10:12:34.200023Z"
    }
   },
   "outputs": [
    {
     "data": {
      "text/plain": [
       "<matplotlib.image.AxesImage at 0x119a4b250>"
      ]
     },
     "execution_count": 252,
     "metadata": {},
     "output_type": "execute_result"
    },
    {
     "data": {
      "image/png": "[encoded data removed]",
      "text/plain": [
       "<Figure size 432x288 with 1 Axes>"
      ]
     },
     "metadata": {
      "needs_background": "light"
     },
     "output_type": "display_data"
    }
   ],
   "source": [
    "plt.imshow(grid)"
   ]
  },
  {
   "cell_type": "code",
   "execution_count": 246,
   "metadata": {
    "ExecuteTime": {
     "end_time": "2020-06-09T10:12:10.241571Z",
     "start_time": "2020-06-09T10:12:10.238327Z"
    }
   },
   "outputs": [],
   "source": [
    "snek.step(3)"
   ]
  },
  {
   "cell_type": "code",
   "execution_count": 241,
   "metadata": {
    "ExecuteTime": {
     "end_time": "2020-06-09T10:11:10.250837Z",
     "start_time": "2020-06-09T10:11:10.088206Z"
    }
   },
   "outputs": [
    {
     "data": {
      "text/plain": [
       "<matplotlib.image.AxesImage at 0x11a810290>"
      ]
     },
     "execution_count": 241,
     "metadata": {},
     "output_type": "execute_result"
    },
    {
     "data": {
      "image/png": "[encoded data removed]",
      "text/plain": [
       "<Figure size 432x288 with 1 Axes>"
      ]
     },
     "metadata": {
      "needs_background": "light"
     },
     "output_type": "display_data"
    }
   ],
   "source": [
    "plt.imshow(grid)"
   ]
  },
  {
   "cell_type": "code",
   "execution_count": 224,
   "metadata": {
    "ExecuteTime": {
     "end_time": "2020-06-09T10:09:15.154797Z",
     "start_time": "2020-06-09T10:09:15.135086Z"
    }
   },
   "outputs": [
    {
     "data": {
      "text/plain": [
       "array([16, 19])"
      ]
     },
     "execution_count": 224,
     "metadata": {},
     "output_type": "execute_result"
    }
   ],
   "source": [
    "snek.head_coord + np.array([0, -1])"
   ]
  },
  {
   "cell_type": "code",
   "execution_count": null,
   "metadata": {},
   "outputs": [],
   "source": []
  }
 ],
 "metadata": {
  "kernelspec": {
   "display_name": "Python 3",
   "language": "python",
   "name": "python3"
  },
  "language_info": {
   "codemirror_mode": {
    "name": "ipython",
    "version": 3
   },
   "file_extension": ".py",
   "mimetype": "text/x-python",
   "name": "python",
   "nbconvert_exporter": "python",
   "pygments_lexer": "ipython3",
   "version": "3.7.4"
  },
  "toc": {
   "base_numbering": 1,
   "nav_menu": {},
   "number_sections": true,
   "sideBar": true,
   "skip_h1_title": false,
   "title_cell": "Table of Contents",
   "title_sidebar": "Contents",
   "toc_cell": false,
   "toc_position": {},
   "toc_section_display": true,
   "toc_window_display": false
  }
 },
 "nbformat": 4,
 "nbformat_minor": 2
}
