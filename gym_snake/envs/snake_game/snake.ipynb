{
 "cells": [
  {
   "cell_type": "code",
   "execution_count": 123,
   "metadata": {
    "ExecuteTime": {
     "end_time": "2020-06-09T09:42:02.945384Z",
     "start_time": "2020-06-09T09:42:02.939842Z"
    }
   },
   "outputs": [],
   "source": [
    "import numpy as np\n",
    "import random\n",
    "from collections import deque\n",
    "import matplotlib.pyplot as plt\n",
    "from time import sleep\n",
    "from IPython.display import clear_output"
   ]
  },
  {
   "cell_type": "code",
   "execution_count": 342,
   "metadata": {
    "ExecuteTime": {
     "end_time": "2020-06-10T05:45:59.643893Z",
     "start_time": "2020-06-10T05:45:59.627659Z"
    }
   },
   "outputs": [],
   "source": [
    "class Grid():\n",
    "    \n",
    "    '''\n",
    "    Generates and operates the grid structure that the snake game will be playing in.\n",
    "    \n",
    "    This will be in a matrix:\n",
    "    [ 0 0 0 0 ]\n",
    "    [ 0 0 0 0 ]\n",
    "    [ 0 0 0 0 ]\n",
    "    [ 0 0 0 0 ]\n",
    "    \n",
    "    Wherein the starting position (0,0) is the upper left corner and the maximum position\n",
    "    is at (max_x, max_y) at the lower right of the square.\n",
    "    \n",
    "    All non-zero elements will be considered as occupied, therefore the board will be \n",
    "    initiated with:\n",
    "    [ 1 1 1 1 ]\n",
    "    [ 1 0 0 1 ]\n",
    "    [ 1 0 0 1 ]\n",
    "    [ 1 1 1 1 ]\n",
    "    wherein the 1s denote the borders of the board.\n",
    "    '''\n",
    "    \n",
    "    def __init__(self, max_x, max_y, snake):\n",
    "        \n",
    "        '''\n",
    "        Generates an empty square board with size (max_x, max_y). This is generated using a\n",
    "        numpy matrix of 0s wherein a border of 1s is added all around the play space.\n",
    "        '''\n",
    "        # instantiate board\n",
    "        self.width = max_x\n",
    "        self.height = max_y\n",
    "        self.board = np.zeros((self.width+2, self.height+2))\n",
    "        self.board[0] = 1\n",
    "        self.board[-1] = 1\n",
    "        self.board[:,0] = 1\n",
    "        self.board[:,-1] = 1\n",
    "        \n",
    "        # instantiate first food\n",
    "        food_idx = np.random.choice(np.argsort(self.board.flatten())\\\n",
    "                                      [:(self.board < 1).sum()])\n",
    "        row = food_idx // self.board.shape[0]\n",
    "        col = food_idx - (self.board.shape[0] * row)\n",
    "        self.board[row,col] = 2\n",
    "        \n",
    "        # instantiate snake board tracker\n",
    "        self.snake_board = np.zeros((self.width+2, self.height+2))\n",
    "        for i in snake.body:\n",
    "            self.snake_board[i[0],i[1]] += 1\n",
    "        self.snake_board[snake.head_coord[0], snake.head_coord[1]] += 1\n",
    "        \n",
    "    def step(self, snake):\n",
    "        \n",
    "        '''\n",
    "        Plots the movement of the snake in the board\n",
    "        '''\n",
    "        \n",
    "        self.snake_board = np.zeros((self.width+2, self.height+2))\n",
    "        for i in snake.body:\n",
    "            self.snake_board[i[0],i[1]] += 1\n",
    "        self.snake_board[snake.head_coord[0], snake.head_coord[1]] += 1 \n",
    "        \n",
    "    def food(self):\n",
    "        \n",
    "        self.board[self.board==2] = 0 # need to reset the board first\n",
    "        food_idx = np.random.choice(np.argsort(self.board.flatten())\\\n",
    "                                      [:(self.board < 1).sum()])\n",
    "        row = food_idx // self.board.shape[0]\n",
    "        col = food_idx - (self.board.shape[0] * row)\n",
    "        self.board[row,col] = 2"
   ]
  },
  {
   "cell_type": "code",
   "execution_count": 343,
   "metadata": {
    "ExecuteTime": {
     "end_time": "2020-06-10T05:45:59.768341Z",
     "start_time": "2020-06-10T05:45:59.758959Z"
    }
   },
   "outputs": [],
   "source": [
    "class Snake():\n",
    "    '''\n",
    "    Generates a new Snake agent that can be used to play the snake game.\n",
    "    \n",
    "    For the snake actions:\n",
    "    \n",
    "    UP = 1\n",
    "    DOWN = 2\n",
    "    LEFT = 3\n",
    "    RIGHT = 4\n",
    "    \n",
    "    '''\n",
    "    \n",
    "    UP = 1\n",
    "    DOWN = 2\n",
    "    LEFT = 3\n",
    "    RIGHT = 4\n",
    "\n",
    "    \n",
    "    def __init__(self, starting_head_coord, length=3):\n",
    "        self.direction = 1\n",
    "        self.head_coord = np.asarray(starting_head_coord)\n",
    "        self.body = deque()\n",
    "        for i in range(length-1, 0, -1):\n",
    "            self.body.append((self.head_coord - np.array([0,i])).astype(int))\n",
    "        self.length = length\n",
    "        \n",
    "    def step(self, action):\n",
    "    \n",
    "        self.body.append(self.head_coord) #we expand the body with the latest head\n",
    "\n",
    "        if action == 1:\n",
    "            self.head_coord = self.head_coord + np.array([-1,0])\n",
    "        elif action == 2:\n",
    "            self.head_coord = self.head_coord + np.array([1,0])\n",
    "        elif action == 3:\n",
    "            self.head_coord = self.head_coord + np.array([0,-1])\n",
    "        elif action == 4:\n",
    "            self.head_coord = self.head_coord + np.array([0,1])\n",
    "\n",
    "        self.direction = action\n",
    "        \n",
    "    def expand(self, food=False):\n",
    "        \n",
    "        if food:\n",
    "            self.length += 1 #expand the total length of the body if we get food\n",
    "\n",
    "        elif len(self.body) > self.length:\n",
    "            self.body.popleft() #if you didn't get food, you remove the last part of the body"
   ]
  },
  {
   "cell_type": "code",
   "execution_count": 444,
   "metadata": {
    "ExecuteTime": {
     "end_time": "2020-06-10T06:17:41.962056Z",
     "start_time": "2020-06-10T06:17:41.939554Z"
    }
   },
   "outputs": [],
   "source": [
    "class PlayGame():\n",
    "    \n",
    "    '''\n",
    "    Defines the wrapper function that manipulates the Snake and Grid classes to play a \n",
    "    game of snake. This will be used for the gym_env wrapper.\n",
    "    '''\n",
    "\n",
    "    def __init__(self, width=40, height=40, snake_length=3):\n",
    "        self.snake = Snake([width//2, height//2], length=snake_length)\n",
    "        self.grid = Grid(width, height, self.snake)\n",
    "        \n",
    "        \n",
    "    def step(self, action):\n",
    "        state = (self.grid.board + self.grid.snake_board)\n",
    "        self.snake.step(action)\n",
    "        self.grid.step(self.snake)\n",
    "        \n",
    "        food = False\n",
    "        \n",
    "        if ((self.grid.board + self.grid.snake_board)==2).sum() or \\\n",
    "            (self.grid.snake_board==2).sum():\n",
    "            reward = -1 #this means that you're dead, son\n",
    "            \n",
    "        elif ((self.grid.board + self.grid.snake_board)==3).sum():\n",
    "            reward = 1 #you got the eats, son\n",
    "            food = True\n",
    "        \n",
    "        else:\n",
    "            reward = 0 #you just moved but didn't die OR get the food\n",
    "            food = False\n",
    "        \n",
    "        if not food:\n",
    "            self.grid.snake_board[self.snake.body[0][0], self.snake.body[0][1]] = 0\n",
    "            \n",
    "        self.snake.expand(food) #expand or contract the snake depending on food\n",
    "        \n",
    "        if food:\n",
    "            self.grid.food()\n",
    "        \n",
    "        next_state = (self.grid.board + self.grid.snake_board)\n",
    "        \n",
    "        return state, action, next_state, reward\n",
    "    \n",
    "    def get_current_state(self):\n",
    "        return self.grid.board + self.grid.snake_board\n",
    "        \n",
    "    def render(self):\n",
    "        plt.cla\n",
    "        plt.imshow((self.grid.board + self.grid.snake_board))\n",
    "        plt.axis('off')\n",
    "        plt.show()"
   ]
  },
  {
   "cell_type": "code",
   "execution_count": 442,
   "metadata": {
    "ExecuteTime": {
     "end_time": "2020-06-10T05:56:30.296630Z",
     "start_time": "2020-06-10T05:56:30.293058Z"
    }
   },
   "outputs": [],
   "source": [
    "game = PlayGame()"
   ]
  },
  {
   "cell_type": "code",
   "execution_count": 443,
   "metadata": {
    "ExecuteTime": {
     "end_time": "2020-06-10T06:17:38.400157Z",
     "start_time": "2020-06-10T05:56:30.447452Z"
    }
   },
   "outputs": [
    {
     "data": {
      "image/png": "[encoded data removed]",
      "text/plain": [
       "<Figure size 432x288 with 1 Axes>"
      ]
     },
     "metadata": {
      "needs_background": "light"
     },
     "output_type": "display_data"
    },
    {
     "ename": "KeyboardInterrupt",
     "evalue": "",
     "output_type": "error",
     "traceback": [
      "\u001b[0;31m---------------------------------------------------------------------------\u001b[0m",
      "\u001b[0;31mKeyboardInterrupt\u001b[0m                         Traceback (most recent call last)",
      "\u001b[0;32m~/opt/anaconda3/lib/python3.7/site-packages/ipykernel/kernelbase.py\u001b[0m in \u001b[0;36m_input_request\u001b[0;34m(self, prompt, ident, parent, password)\u001b[0m\n\u001b[1;32m    884\u001b[0m             \u001b[0;32mtry\u001b[0m\u001b[0;34m:\u001b[0m\u001b[0;34m\u001b[0m\u001b[0;34m\u001b[0m\u001b[0m\n\u001b[0;32m--> 885\u001b[0;31m                 \u001b[0mident\u001b[0m\u001b[0;34m,\u001b[0m \u001b[0mreply\u001b[0m \u001b[0;34m=\u001b[0m \u001b[0mself\u001b[0m\u001b[0;34m.\u001b[0m\u001b[0msession\u001b[0m\u001b[0;34m.\u001b[0m\u001b[0mrecv\u001b[0m\u001b[0;34m(\u001b[0m\u001b[0mself\u001b[0m\u001b[0;34m.\u001b[0m\u001b[0mstdin_socket\u001b[0m\u001b[0;34m,\u001b[0m \u001b[0;36m0\u001b[0m\u001b[0;34m)\u001b[0m\u001b[0;34m\u001b[0m\u001b[0;34m\u001b[0m\u001b[0m\n\u001b[0m\u001b[1;32m    886\u001b[0m             \u001b[0;32mexcept\u001b[0m \u001b[0mException\u001b[0m\u001b[0;34m:\u001b[0m\u001b[0;34m\u001b[0m\u001b[0;34m\u001b[0m\u001b[0m\n",
      "\u001b[0;32m~/opt/anaconda3/lib/python3.7/site-packages/jupyter_client/session.py\u001b[0m in \u001b[0;36mrecv\u001b[0;34m(self, socket, mode, content, copy)\u001b[0m\n\u001b[1;32m    802\u001b[0m         \u001b[0;32mtry\u001b[0m\u001b[0;34m:\u001b[0m\u001b[0;34m\u001b[0m\u001b[0;34m\u001b[0m\u001b[0m\n\u001b[0;32m--> 803\u001b[0;31m             \u001b[0mmsg_list\u001b[0m \u001b[0;34m=\u001b[0m \u001b[0msocket\u001b[0m\u001b[0;34m.\u001b[0m\u001b[0mrecv_multipart\u001b[0m\u001b[0;34m(\u001b[0m\u001b[0mmode\u001b[0m\u001b[0;34m,\u001b[0m \u001b[0mcopy\u001b[0m\u001b[0;34m=\u001b[0m\u001b[0mcopy\u001b[0m\u001b[0;34m)\u001b[0m\u001b[0;34m\u001b[0m\u001b[0;34m\u001b[0m\u001b[0m\n\u001b[0m\u001b[1;32m    804\u001b[0m         \u001b[0;32mexcept\u001b[0m \u001b[0mzmq\u001b[0m\u001b[0;34m.\u001b[0m\u001b[0mZMQError\u001b[0m \u001b[0;32mas\u001b[0m \u001b[0me\u001b[0m\u001b[0;34m:\u001b[0m\u001b[0;34m\u001b[0m\u001b[0;34m\u001b[0m\u001b[0m\n",
      "\u001b[0;32m~/opt/anaconda3/lib/python3.7/site-packages/zmq/sugar/socket.py\u001b[0m in \u001b[0;36mrecv_multipart\u001b[0;34m(self, flags, copy, track)\u001b[0m\n\u001b[1;32m    474\u001b[0m         \"\"\"\n\u001b[0;32m--> 475\u001b[0;31m         \u001b[0mparts\u001b[0m \u001b[0;34m=\u001b[0m \u001b[0;34m[\u001b[0m\u001b[0mself\u001b[0m\u001b[0;34m.\u001b[0m\u001b[0mrecv\u001b[0m\u001b[0;34m(\u001b[0m\u001b[0mflags\u001b[0m\u001b[0;34m,\u001b[0m \u001b[0mcopy\u001b[0m\u001b[0;34m=\u001b[0m\u001b[0mcopy\u001b[0m\u001b[0;34m,\u001b[0m \u001b[0mtrack\u001b[0m\u001b[0;34m=\u001b[0m\u001b[0mtrack\u001b[0m\u001b[0;34m)\u001b[0m\u001b[0;34m]\u001b[0m\u001b[0;34m\u001b[0m\u001b[0;34m\u001b[0m\u001b[0m\n\u001b[0m\u001b[1;32m    476\u001b[0m         \u001b[0;31m# have first part already, only loop while more to receive\u001b[0m\u001b[0;34m\u001b[0m\u001b[0;34m\u001b[0m\u001b[0;34m\u001b[0m\u001b[0m\n",
      "\u001b[0;32mzmq/backend/cython/socket.pyx\u001b[0m in \u001b[0;36mzmq.backend.cython.socket.Socket.recv\u001b[0;34m()\u001b[0m\n",
      "\u001b[0;32mzmq/backend/cython/socket.pyx\u001b[0m in \u001b[0;36mzmq.backend.cython.socket.Socket.recv\u001b[0;34m()\u001b[0m\n",
      "\u001b[0;32mzmq/backend/cython/socket.pyx\u001b[0m in \u001b[0;36mzmq.backend.cython.socket._recv_copy\u001b[0;34m()\u001b[0m\n",
      "\u001b[0;32m~/opt/anaconda3/lib/python3.7/site-packages/zmq/backend/cython/checkrc.pxd\u001b[0m in \u001b[0;36mzmq.backend.cython.checkrc._check_rc\u001b[0;34m()\u001b[0m\n",
      "\u001b[0;31mKeyboardInterrupt\u001b[0m: ",
      "\nDuring handling of the above exception, another exception occurred:\n",
      "\u001b[0;31mKeyboardInterrupt\u001b[0m                         Traceback (most recent call last)",
      "\u001b[0;32m<ipython-input-443-47f8219922c6>\u001b[0m in \u001b[0;36m<module>\u001b[0;34m\u001b[0m\n\u001b[1;32m      1\u001b[0m \u001b[0;32mfor\u001b[0m \u001b[0mi\u001b[0m \u001b[0;32min\u001b[0m \u001b[0mrange\u001b[0m\u001b[0;34m(\u001b[0m\u001b[0;36m100000\u001b[0m\u001b[0;34m)\u001b[0m\u001b[0;34m:\u001b[0m\u001b[0;34m\u001b[0m\u001b[0;34m\u001b[0m\u001b[0m\n\u001b[1;32m      2\u001b[0m     \u001b[0mgame\u001b[0m\u001b[0;34m.\u001b[0m\u001b[0mrender\u001b[0m\u001b[0;34m(\u001b[0m\u001b[0;34m)\u001b[0m\u001b[0;34m\u001b[0m\u001b[0;34m\u001b[0m\u001b[0m\n\u001b[0;32m----> 3\u001b[0;31m     \u001b[0mmove\u001b[0m \u001b[0;34m=\u001b[0m \u001b[0minput\u001b[0m\u001b[0;34m(\u001b[0m\u001b[0;34m'action?'\u001b[0m\u001b[0;34m)\u001b[0m\u001b[0;34m\u001b[0m\u001b[0;34m\u001b[0m\u001b[0m\n\u001b[0m\u001b[1;32m      4\u001b[0m     \u001b[0mgame\u001b[0m\u001b[0;34m.\u001b[0m\u001b[0mstep\u001b[0m\u001b[0;34m(\u001b[0m\u001b[0mint\u001b[0m\u001b[0;34m(\u001b[0m\u001b[0mmove\u001b[0m\u001b[0;34m)\u001b[0m\u001b[0;34m)\u001b[0m\u001b[0;34m\u001b[0m\u001b[0;34m\u001b[0m\u001b[0m\n\u001b[1;32m      5\u001b[0m     \u001b[0mclear_output\u001b[0m\u001b[0;34m(\u001b[0m\u001b[0;34m)\u001b[0m\u001b[0;34m\u001b[0m\u001b[0;34m\u001b[0m\u001b[0m\n",
      "\u001b[0;32m~/opt/anaconda3/lib/python3.7/site-packages/ipykernel/kernelbase.py\u001b[0m in \u001b[0;36mraw_input\u001b[0;34m(self, prompt)\u001b[0m\n\u001b[1;32m    858\u001b[0m             \u001b[0mself\u001b[0m\u001b[0;34m.\u001b[0m\u001b[0m_parent_ident\u001b[0m\u001b[0;34m,\u001b[0m\u001b[0;34m\u001b[0m\u001b[0;34m\u001b[0m\u001b[0m\n\u001b[1;32m    859\u001b[0m             \u001b[0mself\u001b[0m\u001b[0;34m.\u001b[0m\u001b[0m_parent_header\u001b[0m\u001b[0;34m,\u001b[0m\u001b[0;34m\u001b[0m\u001b[0;34m\u001b[0m\u001b[0m\n\u001b[0;32m--> 860\u001b[0;31m             \u001b[0mpassword\u001b[0m\u001b[0;34m=\u001b[0m\u001b[0;32mFalse\u001b[0m\u001b[0;34m,\u001b[0m\u001b[0;34m\u001b[0m\u001b[0;34m\u001b[0m\u001b[0m\n\u001b[0m\u001b[1;32m    861\u001b[0m         )\n\u001b[1;32m    862\u001b[0m \u001b[0;34m\u001b[0m\u001b[0m\n",
      "\u001b[0;32m~/opt/anaconda3/lib/python3.7/site-packages/ipykernel/kernelbase.py\u001b[0m in \u001b[0;36m_input_request\u001b[0;34m(self, prompt, ident, parent, password)\u001b[0m\n\u001b[1;32m    888\u001b[0m             \u001b[0;32mexcept\u001b[0m \u001b[0mKeyboardInterrupt\u001b[0m\u001b[0;34m:\u001b[0m\u001b[0;34m\u001b[0m\u001b[0;34m\u001b[0m\u001b[0m\n\u001b[1;32m    889\u001b[0m                 \u001b[0;31m# re-raise KeyboardInterrupt, to truncate traceback\u001b[0m\u001b[0;34m\u001b[0m\u001b[0;34m\u001b[0m\u001b[0;34m\u001b[0m\u001b[0m\n\u001b[0;32m--> 890\u001b[0;31m                 \u001b[0;32mraise\u001b[0m \u001b[0mKeyboardInterrupt\u001b[0m\u001b[0;34m\u001b[0m\u001b[0;34m\u001b[0m\u001b[0m\n\u001b[0m\u001b[1;32m    891\u001b[0m             \u001b[0;32melse\u001b[0m\u001b[0;34m:\u001b[0m\u001b[0;34m\u001b[0m\u001b[0;34m\u001b[0m\u001b[0m\n\u001b[1;32m    892\u001b[0m                 \u001b[0;32mbreak\u001b[0m\u001b[0;34m\u001b[0m\u001b[0;34m\u001b[0m\u001b[0m\n",
      "\u001b[0;31mKeyboardInterrupt\u001b[0m: "
     ]
    }
   ],
   "source": [
    "for i in range(100000):\n",
    "    game.render()\n",
    "    move = input('action?')\n",
    "    game.step(int(move))\n",
    "    clear_output()\n",
    "    "
   ]
  },
  {
   "cell_type": "code",
   "execution_count": null,
   "metadata": {},
   "outputs": [],
   "source": []
  }
 ],
 "metadata": {
  "kernelspec": {
   "display_name": "Python 3",
   "language": "python",
   "name": "python3"
  },
  "language_info": {
   "codemirror_mode": {
    "name": "ipython",
    "version": 3
   },
   "file_extension": ".py",
   "mimetype": "text/x-python",
   "name": "python",
   "nbconvert_exporter": "python",
   "pygments_lexer": "ipython3",
   "version": "3.7.4"
  },
  "toc": {
   "base_numbering": 1,
   "nav_menu": {},
   "number_sections": true,
   "sideBar": true,
   "skip_h1_title": false,
   "title_cell": "Table of Contents",
   "title_sidebar": "Contents",
   "toc_cell": false,
   "toc_position": {},
   "toc_section_display": true,
   "toc_window_display": false
  }
 },
 "nbformat": 4,
 "nbformat_minor": 2
}
